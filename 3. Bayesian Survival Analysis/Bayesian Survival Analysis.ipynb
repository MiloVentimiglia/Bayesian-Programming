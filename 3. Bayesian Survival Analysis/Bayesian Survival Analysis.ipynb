{
 "cells": [
  {
   "cell_type": "markdown",
   "metadata": {},
   "source": [
    "# Bayesian Survival Analysis"
   ]
  },
  {
   "cell_type": "markdown",
   "metadata": {},
   "source": [
    "Database: https://github.com/ludovicbenistant/Management-Analytics/tree/master/Supply%20Chain/Maintenance%20(survival%20analysis) \n",
    "\n",
    "Normal survival analysis done using the same data: https://rpubs.com/Ludovicbenistant/predictive-maintenance \n",
    "\n",
    "Pymc3 code explanation: https://pymc-devs.github.io/pymc3/notebooks/survival_analysis.html "
   ]
  },
  {
   "cell_type": "code",
   "execution_count": 55,
   "metadata": {
    "collapsed": false
   },
   "outputs": [
    {
     "data": {
      "text/html": [
       "<div>\n",
       "<table border=\"1\" class=\"dataframe\">\n",
       "  <thead>\n",
       "    <tr style=\"text-align: right;\">\n",
       "      <th></th>\n",
       "      <th>lifetime</th>\n",
       "      <th>broken</th>\n",
       "      <th>pressureInd</th>\n",
       "      <th>moistureInd</th>\n",
       "      <th>temperatureInd</th>\n",
       "      <th>team</th>\n",
       "      <th>provider</th>\n",
       "    </tr>\n",
       "  </thead>\n",
       "  <tbody>\n",
       "    <tr>\n",
       "      <th>0</th>\n",
       "      <td>56</td>\n",
       "      <td>0</td>\n",
       "      <td>92.178854</td>\n",
       "      <td>104.230204</td>\n",
       "      <td>96.517159</td>\n",
       "      <td>TeamA</td>\n",
       "      <td>Provider4</td>\n",
       "    </tr>\n",
       "    <tr>\n",
       "      <th>1</th>\n",
       "      <td>81</td>\n",
       "      <td>1</td>\n",
       "      <td>72.075938</td>\n",
       "      <td>103.065701</td>\n",
       "      <td>87.271062</td>\n",
       "      <td>TeamC</td>\n",
       "      <td>Provider4</td>\n",
       "    </tr>\n",
       "    <tr>\n",
       "      <th>2</th>\n",
       "      <td>60</td>\n",
       "      <td>0</td>\n",
       "      <td>96.272254</td>\n",
       "      <td>77.801376</td>\n",
       "      <td>112.196170</td>\n",
       "      <td>TeamA</td>\n",
       "      <td>Provider1</td>\n",
       "    </tr>\n",
       "    <tr>\n",
       "      <th>3</th>\n",
       "      <td>86</td>\n",
       "      <td>1</td>\n",
       "      <td>94.406461</td>\n",
       "      <td>108.493608</td>\n",
       "      <td>72.025374</td>\n",
       "      <td>TeamC</td>\n",
       "      <td>Provider2</td>\n",
       "    </tr>\n",
       "    <tr>\n",
       "      <th>5</th>\n",
       "      <td>30</td>\n",
       "      <td>0</td>\n",
       "      <td>87.678801</td>\n",
       "      <td>115.712262</td>\n",
       "      <td>89.792105</td>\n",
       "      <td>TeamA</td>\n",
       "      <td>Provider1</td>\n",
       "    </tr>\n",
       "    <tr>\n",
       "      <th>9</th>\n",
       "      <td>81</td>\n",
       "      <td>1</td>\n",
       "      <td>99.178235</td>\n",
       "      <td>99.138717</td>\n",
       "      <td>95.492965</td>\n",
       "      <td>TeamC</td>\n",
       "      <td>Provider4</td>\n",
       "    </tr>\n",
       "    <tr>\n",
       "      <th>11</th>\n",
       "      <td>29</td>\n",
       "      <td>0</td>\n",
       "      <td>67.812251</td>\n",
       "      <td>96.107846</td>\n",
       "      <td>122.371809</td>\n",
       "      <td>TeamA</td>\n",
       "      <td>Provider1</td>\n",
       "    </tr>\n",
       "    <tr>\n",
       "      <th>12</th>\n",
       "      <td>65</td>\n",
       "      <td>1</td>\n",
       "      <td>86.366111</td>\n",
       "      <td>92.561972</td>\n",
       "      <td>96.667950</td>\n",
       "      <td>TeamA</td>\n",
       "      <td>Provider3</td>\n",
       "    </tr>\n",
       "    <tr>\n",
       "      <th>13</th>\n",
       "      <td>65</td>\n",
       "      <td>1</td>\n",
       "      <td>76.144654</td>\n",
       "      <td>93.973454</td>\n",
       "      <td>108.944273</td>\n",
       "      <td>TeamA</td>\n",
       "      <td>Provider3</td>\n",
       "    </tr>\n",
       "    <tr>\n",
       "      <th>14</th>\n",
       "      <td>82</td>\n",
       "      <td>1</td>\n",
       "      <td>103.107263</td>\n",
       "      <td>103.673197</td>\n",
       "      <td>79.504532</td>\n",
       "      <td>TeamC</td>\n",
       "      <td>Provider4</td>\n",
       "    </tr>\n",
       "  </tbody>\n",
       "</table>\n",
       "</div>"
      ],
      "text/plain": [
       "    lifetime  broken  pressureInd  moistureInd  temperatureInd   team  \\\n",
       "0         56       0    92.178854   104.230204       96.517159  TeamA   \n",
       "1         81       1    72.075938   103.065701       87.271062  TeamC   \n",
       "2         60       0    96.272254    77.801376      112.196170  TeamA   \n",
       "3         86       1    94.406461   108.493608       72.025374  TeamC   \n",
       "5         30       0    87.678801   115.712262       89.792105  TeamA   \n",
       "9         81       1    99.178235    99.138717       95.492965  TeamC   \n",
       "11        29       0    67.812251    96.107846      122.371809  TeamA   \n",
       "12        65       1    86.366111    92.561972       96.667950  TeamA   \n",
       "13        65       1    76.144654    93.973454      108.944273  TeamA   \n",
       "14        82       1   103.107263   103.673197       79.504532  TeamC   \n",
       "\n",
       "     provider  \n",
       "0   Provider4  \n",
       "1   Provider4  \n",
       "2   Provider1  \n",
       "3   Provider2  \n",
       "5   Provider1  \n",
       "9   Provider4  \n",
       "11  Provider1  \n",
       "12  Provider3  \n",
       "13  Provider3  \n",
       "14  Provider4  "
      ]
     },
     "execution_count": 55,
     "metadata": {},
     "output_type": "execute_result"
    }
   ],
   "source": [
    "%matplotlib inline\n",
    "# Import\n",
    "from matplotlib import pyplot as plt\n",
    "import numpy as np\n",
    "import pymc3 as pm\n",
    "from pymc3.distributions.timeseries import GaussianRandomWalk\n",
    "import seaborn as sns\n",
    "from statsmodels import datasets\n",
    "from theano import tensor as T\n",
    "import pandas as pd\n",
    "# load dataset\n",
    "## Let's take only the first 100 rows\n",
    "df = pd.read_csv('maintenance_data.csv', sep=';',nrows = 100)\n",
    "df = df[df['team'].isin(['TeamA', 'TeamC'])]\n",
    "df.head(10)"
   ]
  },
  {
   "cell_type": "code",
   "execution_count": 56,
   "metadata": {
    "collapsed": false
   },
   "outputs": [
    {
     "data": {
      "text/plain": [
       "0.38095238095238093"
      ]
     },
     "execution_count": 56,
     "metadata": {},
     "output_type": "execute_result"
    }
   ],
   "source": [
    "# % of broken machines\n",
    "df.broken.mean()"
   ]
  },
  {
   "cell_type": "code",
   "execution_count": 57,
   "metadata": {
    "collapsed": false
   },
   "outputs": [
    {
     "data": {
      "text/html": [
       "<div>\n",
       "<table border=\"1\" class=\"dataframe\">\n",
       "  <thead>\n",
       "    <tr style=\"text-align: right;\">\n",
       "      <th></th>\n",
       "      <th>lifetime</th>\n",
       "      <th>broken</th>\n",
       "      <th>pressureInd</th>\n",
       "      <th>moistureInd</th>\n",
       "      <th>temperatureInd</th>\n",
       "      <th>team</th>\n",
       "      <th>provider</th>\n",
       "    </tr>\n",
       "  </thead>\n",
       "  <tbody>\n",
       "    <tr>\n",
       "      <th>0</th>\n",
       "      <td>56</td>\n",
       "      <td>0</td>\n",
       "      <td>92.178854</td>\n",
       "      <td>104.230204</td>\n",
       "      <td>96.517159</td>\n",
       "      <td>1</td>\n",
       "      <td>Provider4</td>\n",
       "    </tr>\n",
       "    <tr>\n",
       "      <th>1</th>\n",
       "      <td>81</td>\n",
       "      <td>1</td>\n",
       "      <td>72.075938</td>\n",
       "      <td>103.065701</td>\n",
       "      <td>87.271062</td>\n",
       "      <td>0</td>\n",
       "      <td>Provider4</td>\n",
       "    </tr>\n",
       "    <tr>\n",
       "      <th>2</th>\n",
       "      <td>60</td>\n",
       "      <td>0</td>\n",
       "      <td>96.272254</td>\n",
       "      <td>77.801376</td>\n",
       "      <td>112.196170</td>\n",
       "      <td>1</td>\n",
       "      <td>Provider1</td>\n",
       "    </tr>\n",
       "    <tr>\n",
       "      <th>3</th>\n",
       "      <td>86</td>\n",
       "      <td>1</td>\n",
       "      <td>94.406461</td>\n",
       "      <td>108.493608</td>\n",
       "      <td>72.025374</td>\n",
       "      <td>0</td>\n",
       "      <td>Provider2</td>\n",
       "    </tr>\n",
       "    <tr>\n",
       "      <th>5</th>\n",
       "      <td>30</td>\n",
       "      <td>0</td>\n",
       "      <td>87.678801</td>\n",
       "      <td>115.712262</td>\n",
       "      <td>89.792105</td>\n",
       "      <td>1</td>\n",
       "      <td>Provider1</td>\n",
       "    </tr>\n",
       "    <tr>\n",
       "      <th>9</th>\n",
       "      <td>81</td>\n",
       "      <td>1</td>\n",
       "      <td>99.178235</td>\n",
       "      <td>99.138717</td>\n",
       "      <td>95.492965</td>\n",
       "      <td>0</td>\n",
       "      <td>Provider4</td>\n",
       "    </tr>\n",
       "    <tr>\n",
       "      <th>11</th>\n",
       "      <td>29</td>\n",
       "      <td>0</td>\n",
       "      <td>67.812251</td>\n",
       "      <td>96.107846</td>\n",
       "      <td>122.371809</td>\n",
       "      <td>1</td>\n",
       "      <td>Provider1</td>\n",
       "    </tr>\n",
       "    <tr>\n",
       "      <th>12</th>\n",
       "      <td>65</td>\n",
       "      <td>1</td>\n",
       "      <td>86.366111</td>\n",
       "      <td>92.561972</td>\n",
       "      <td>96.667950</td>\n",
       "      <td>1</td>\n",
       "      <td>Provider3</td>\n",
       "    </tr>\n",
       "    <tr>\n",
       "      <th>13</th>\n",
       "      <td>65</td>\n",
       "      <td>1</td>\n",
       "      <td>76.144654</td>\n",
       "      <td>93.973454</td>\n",
       "      <td>108.944273</td>\n",
       "      <td>1</td>\n",
       "      <td>Provider3</td>\n",
       "    </tr>\n",
       "    <tr>\n",
       "      <th>14</th>\n",
       "      <td>82</td>\n",
       "      <td>1</td>\n",
       "      <td>103.107263</td>\n",
       "      <td>103.673197</td>\n",
       "      <td>79.504532</td>\n",
       "      <td>0</td>\n",
       "      <td>Provider4</td>\n",
       "    </tr>\n",
       "  </tbody>\n",
       "</table>\n",
       "</div>"
      ],
      "text/plain": [
       "    lifetime  broken  pressureInd  moistureInd  temperatureInd  team  \\\n",
       "0         56       0    92.178854   104.230204       96.517159     1   \n",
       "1         81       1    72.075938   103.065701       87.271062     0   \n",
       "2         60       0    96.272254    77.801376      112.196170     1   \n",
       "3         86       1    94.406461   108.493608       72.025374     0   \n",
       "5         30       0    87.678801   115.712262       89.792105     1   \n",
       "9         81       1    99.178235    99.138717       95.492965     0   \n",
       "11        29       0    67.812251    96.107846      122.371809     1   \n",
       "12        65       1    86.366111    92.561972       96.667950     1   \n",
       "13        65       1    76.144654    93.973454      108.944273     1   \n",
       "14        82       1   103.107263   103.673197       79.504532     0   \n",
       "\n",
       "     provider  \n",
       "0   Provider4  \n",
       "1   Provider4  \n",
       "2   Provider1  \n",
       "3   Provider2  \n",
       "5   Provider1  \n",
       "9   Provider4  \n",
       "11  Provider1  \n",
       "12  Provider3  \n",
       "13  Provider3  \n",
       "14  Provider4  "
      ]
     },
     "execution_count": 57,
     "metadata": {},
     "output_type": "execute_result"
    }
   ],
   "source": [
    "# Prepare the data\n",
    "df.broken = df.broken.astype(np.int64)\n",
    "df.team = (df.team == 'TeamA').astype(np.int64)\n",
    "n_machines = df.shape[0]\n",
    "machine = np.arange(n_machines)\n",
    "df.head(10)"
   ]
  },
  {
   "cell_type": "code",
   "execution_count": 58,
   "metadata": {
    "collapsed": false
   },
   "outputs": [
    {
     "data": {
      "image/png": "[encoded data removed]",
      "text/plain": [
       "<matplotlib.figure.Figure at 0x1185df1d0>"
      ]
     },
     "metadata": {},
     "output_type": "display_data"
    }
   ],
   "source": [
    "# First plot of our data\n",
    "fig, ax = plt.subplots(figsize=(18, 13))\n",
    "blue, _, red = sns.color_palette()[:3]\n",
    "\n",
    "ax.hlines(machine[df.broken.values == 0], 0, df[df.broken.values == 0].lifetime,\n",
    "          color=blue, label='Working')\n",
    "\n",
    "ax.hlines(machine[df.broken.values == 1], 0, df[df.broken.values == 1].lifetime,\n",
    "          color=red, label='Broken')\n",
    "\n",
    "ax.scatter(df[df.team.values == 1].lifetime, machine[df.team.values == 1],\n",
    "          color='k', zorder=10, label='Team A')\n",
    "\n",
    "ax.set_xlim(left=0)\n",
    "ax.set_xlabel('Months')\n",
    "ax.set_yticks([])\n",
    "ax.set_ylabel('Machines')\n",
    "#ax.set_ylim(-0.25, n_machines + 0.25)\n",
    "ax.legend(loc='upper right');\n"
   ]
  },
  {
   "cell_type": "code",
   "execution_count": 59,
   "metadata": {
    "collapsed": false
   },
   "outputs": [],
   "source": [
    "# Second plot to have a glance of the data\n",
    "interval_length = 3\n",
    "interval_bounds = np.arange(0, df.lifetime.max() + interval_length + 1, interval_length)\n",
    "n_intervals = interval_bounds.size - 1\n",
    "intervals = np.arange(n_intervals)"
   ]
  },
  {
   "cell_type": "code",
   "execution_count": 60,
   "metadata": {
    "collapsed": false
   },
   "outputs": [
    {
     "data": {
      "image/png": "[encoded data removed]",
      "text/plain": [
       "<matplotlib.figure.Figure at 0x12d8dd358>"
      ]
     },
     "metadata": {},
     "output_type": "display_data"
    }
   ],
   "source": [
    "fig, ax = plt.subplots(figsize=(12, 6))\n",
    "\n",
    "ax.hist(df[df.broken == 1].lifetime.values, bins=interval_bounds,\n",
    "        color=red, alpha=0.5, lw=0,\n",
    "        label='Broken');\n",
    "ax.hist(df[df.broken == 0].lifetime.values, bins=interval_bounds,\n",
    "        color=blue, alpha=0.5, lw=0,\n",
    "        label='Working');\n",
    "\n",
    "ax.set_xlim(0, interval_bounds[-1]);\n",
    "ax.set_xlabel('Months');\n",
    "\n",
    "ax.set_yticks([0, 1, 2, 3]);\n",
    "ax.set_ylabel('Number of observations');\n",
    "\n",
    "ax.legend();"
   ]
  },
  {
   "cell_type": "code",
   "execution_count": 61,
   "metadata": {
    "collapsed": true
   },
   "outputs": [],
   "source": [
    "last_period = np.floor((df.lifetime - 0.01) / interval_length).astype(int)\n",
    "\n",
    "death = np.zeros((n_machines, n_intervals))\n",
    "death[machine, last_period] = df.broken"
   ]
  },
  {
   "cell_type": "code",
   "execution_count": 62,
   "metadata": {
    "collapsed": false
   },
   "outputs": [],
   "source": [
    "exposure = np.greater_equal.outer(df.lifetime, interval_bounds[:-1]) * interval_length\n",
    "exposure[machine, last_period] = df.lifetime - interval_bounds[last_period]"
   ]
  },
  {
   "cell_type": "code",
   "execution_count": 63,
   "metadata": {
    "collapsed": false
   },
   "outputs": [],
   "source": [
    "SEED = 5078864 # from random.org\n",
    "with pm.Model() as model:\n",
    "    lambda0 = pm.Gamma('lambda0', 0.01, 0.01, shape=n_intervals)\n",
    "\n",
    "    beta = pm.Normal('beta', 0, sd=1000)\n",
    "\n",
    "    lambda_ = pm.Deterministic('lambda_', T.outer(T.exp(beta * df.team), lambda0))\n",
    "    mu = pm.Deterministic('mu', exposure * lambda_)\n",
    "\n",
    "    obs = pm.Poisson('obs', mu, observed=death)\n",
    "    "
   ]
  },
  {
   "cell_type": "code",
   "execution_count": 64,
   "metadata": {
    "collapsed": false
   },
   "outputs": [
    {
     "name": "stderr",
     "output_type": "stream",
     "text": [
      "\n",
      "  0%|          | 0/200000 [00:00<?, ?it/s]\u001b[A\n",
      "  0%|          | 932/200000 [00:00<00:21, 9312.55it/s]\u001b[A\n",
      "  1%|          | 1453/200000 [00:00<00:26, 7527.23it/s]\u001b[A\n",
      "  1%|          | 1819/200000 [00:00<00:34, 5696.12it/s]\u001b[A\n",
      "  1%|          | 2300/200000 [00:00<00:36, 5397.45it/s]\u001b[A\n",
      "  1%|▏         | 2816/200000 [00:00<00:37, 5322.87it/s]\u001b[A\n",
      "  2%|▏         | 3504/200000 [00:00<00:34, 5709.47it/s]\u001b[A\n",
      "  2%|▏         | 4223/200000 [00:00<00:32, 6085.21it/s]\u001b[A\n",
      "  2%|▏         | 4794/200000 [00:00<00:34, 5615.16it/s]\u001b[A\n",
      "  3%|▎         | 5337/200000 [00:00<00:40, 4755.92it/s]\u001b[A\n",
      "  3%|▎         | 5822/200000 [00:01<00:44, 4356.07it/s]\u001b[A\n",
      "  3%|▎         | 6529/200000 [00:01<00:39, 4922.81it/s]\u001b[A\n",
      "  4%|▎         | 7171/200000 [00:01<00:36, 5291.99it/s]\u001b[A\n",
      "  4%|▍         | 7931/200000 [00:01<00:32, 5821.94it/s]\u001b[A\n",
      "  4%|▍         | 8614/200000 [00:01<00:31, 6091.49it/s]\u001b[A\n",
      "  5%|▍         | 9395/200000 [00:01<00:29, 6521.43it/s]\u001b[A\n",
      "  5%|▌         | 10077/200000 [00:01<00:28, 6572.49it/s]\u001b[A\n",
      "  5%|▌         | 10989/200000 [00:01<00:26, 7172.15it/s]\u001b[A\n",
      "  6%|▌         | 11737/200000 [00:01<00:25, 7247.69it/s]\u001b[A\n",
      "  6%|▋         | 12560/200000 [00:02<00:24, 7515.94it/s]\u001b[A\n",
      "  7%|▋         | 13330/200000 [00:02<00:26, 7129.25it/s]\u001b[A\n",
      "  7%|▋         | 14133/200000 [00:02<00:25, 7376.42it/s]\u001b[A\n",
      "  8%|▊         | 15050/200000 [00:02<00:23, 7835.38it/s]\u001b[A\n",
      "  8%|▊         | 15851/200000 [00:02<00:23, 7807.38it/s]\u001b[A\n",
      "  8%|▊         | 16710/200000 [00:02<00:22, 8024.72it/s]\u001b[A\n",
      "  9%|▉         | 17640/200000 [00:02<00:21, 8367.97it/s]\u001b[A\n",
      "  9%|▉         | 18488/200000 [00:02<00:23, 7889.74it/s]\u001b[A\n",
      " 10%|▉         | 19291/200000 [00:02<00:23, 7836.95it/s]\u001b[A\n",
      "Average ELBO = -926.31:  10%|█         | 20085/200000 [00:02<00:23, 7702.77it/s]\u001b[A\n",
      "Average ELBO = -926.31:  10%|█         | 20963/200000 [00:03<00:22, 7995.55it/s]\u001b[A\n",
      "Average ELBO = -926.31:  11%|█         | 21771/200000 [00:03<00:22, 7989.86it/s]\u001b[A\n",
      "Average ELBO = -926.31:  11%|█▏        | 22591/200000 [00:03<00:22, 8050.56it/s]\u001b[A\n",
      "Average ELBO = -926.31:  12%|█▏        | 23400/200000 [00:03<00:22, 7891.21it/s]\u001b[A\n",
      "Average ELBO = -926.31:  12%|█▏        | 24193/200000 [00:03<00:22, 7799.16it/s]\u001b[A\n",
      "Average ELBO = -926.31:  12%|█▏        | 24976/200000 [00:03<00:27, 6252.56it/s]\u001b[A\n",
      "Average ELBO = -926.31:  13%|█▎        | 25653/200000 [00:03<00:30, 5626.42it/s]\u001b[A\n",
      "Average ELBO = -926.31:  13%|█▎        | 26264/200000 [00:03<00:34, 5001.20it/s]\u001b[A\n",
      "Average ELBO = -926.31:  13%|█▎        | 26811/200000 [00:04<00:36, 4783.35it/s]\u001b[A\n",
      "Average ELBO = -926.31:  14%|█▎        | 27324/200000 [00:04<00:37, 4609.95it/s]\u001b[A\n",
      "Average ELBO = -926.31:  14%|█▍        | 27811/200000 [00:04<00:37, 4560.45it/s]\u001b[A\n",
      "Average ELBO = -926.31:  14%|█▍        | 28451/200000 [00:04<00:34, 4990.04it/s]\u001b[A\n",
      "Average ELBO = -926.31:  14%|█▍        | 28975/200000 [00:04<00:35, 4817.07it/s]\u001b[A\n",
      "Average ELBO = -926.31:  15%|█▍        | 29476/200000 [00:04<00:35, 4784.19it/s]\u001b[A\n",
      "Average ELBO = -926.31:  15%|█▍        | 29968/200000 [00:04<00:35, 4747.08it/s]\u001b[A\n",
      "Average ELBO = -926.31:  15%|█▌        | 30478/200000 [00:04<00:34, 4844.59it/s]\u001b[A\n",
      "Average ELBO = -926.31:  15%|█▌        | 30970/200000 [00:04<00:35, 4741.39it/s]\u001b[A\n",
      "Average ELBO = -926.31:  16%|█▌        | 31695/200000 [00:05<00:31, 5281.81it/s]\u001b[A\n",
      "Average ELBO = -926.31:  16%|█▌        | 32346/200000 [00:05<00:29, 5596.93it/s]\u001b[A\n",
      "Average ELBO = -926.31:  17%|█▋        | 33148/200000 [00:05<00:27, 6154.08it/s]\u001b[A\n",
      "Average ELBO = -926.31:  17%|█▋        | 33939/200000 [00:05<00:25, 6593.10it/s]\u001b[A\n",
      "Average ELBO = -926.31:  17%|█▋        | 34804/200000 [00:05<00:23, 7098.69it/s]\u001b[A\n",
      "Average ELBO = -926.31:  18%|█▊        | 35547/200000 [00:05<00:23, 6922.13it/s]\u001b[A\n",
      "Average ELBO = -926.31:  18%|█▊        | 36264/200000 [00:05<00:23, 6970.74it/s]\u001b[A\n",
      "Average ELBO = -926.31:  18%|█▊        | 36998/200000 [00:05<00:23, 7076.50it/s]\u001b[A\n",
      "Average ELBO = -926.31:  19%|█▉        | 37718/200000 [00:05<00:23, 6824.90it/s]\u001b[A\n",
      "Average ELBO = -926.31:  19%|█▉        | 38411/200000 [00:06<00:25, 6230.69it/s]\u001b[A\n",
      "Average ELBO = -926.31:  20%|█▉        | 39052/200000 [00:06<00:26, 6096.41it/s]\u001b[A\n",
      "Exception in thread Thread-8:\n",
      "Traceback (most recent call last):\n",
      "  File \"//anaconda/lib/python3.5/threading.py\", line 914, in _bootstrap_inner\n",
      "    self.run()\n",
      "  File \"//anaconda/lib/python3.5/site-packages/tqdm/_tqdm.py\", line 102, in run\n",
      "    for instance in self.tqdm_cls._instances:\n",
      "  File \"//anaconda/lib/python3.5/_weakrefset.py\", line 60, in __iter__\n",
      "    for itemref in self.data:\n",
      "RuntimeError: Set changed size during iteration\n",
      "\n",
      "Average ELBO = -9.8616e+13: 100%|██████████| 200000/200000 [00:25<00:00, 7797.52it/s]\n",
      "100%|██████████| 1000/1000 [02:26<00:00,  6.82it/s]\n"
     ]
    }
   ],
   "source": [
    "n_samples = 1000\n",
    "with model:\n",
    "    trace_ = pm.sample(n_samples,random_seed=SEED)\n",
    "#   trace_ = pm.sample_init(draws=500, n_init=2000)"
   ]
  },
  {
   "cell_type": "code",
   "execution_count": 69,
   "metadata": {
    "collapsed": true
   },
   "outputs": [],
   "source": [
    "trace = trace_[100:]"
   ]
  },
  {
   "cell_type": "code",
   "execution_count": 70,
   "metadata": {
    "collapsed": false
   },
   "outputs": [
    {
     "data": {
      "text/plain": [
       "0.46445276400154134"
      ]
     },
     "execution_count": 70,
     "metadata": {},
     "output_type": "execute_result"
    }
   ],
   "source": [
    "np.exp(trace['beta'].mean())"
   ]
  },
  {
   "cell_type": "code",
   "execution_count": 71,
   "metadata": {
    "collapsed": false
   },
   "outputs": [
    {
     "data": {
      "image/png": "[encoded data removed]",
      "text/plain": [
       "<matplotlib.figure.Figure at 0x119b5f710>"
      ]
     },
     "metadata": {},
     "output_type": "display_data"
    }
   ],
   "source": [
    "pm.plot_posterior(trace, varnames=['beta'], color='#87ceeb');"
   ]
  },
  {
   "cell_type": "code",
   "execution_count": 72,
   "metadata": {
    "collapsed": false
   },
   "outputs": [
    {
     "data": {
      "image/png": "[encoded data removed]",
      "text/plain": [
       "<matplotlib.figure.Figure at 0x119de4fd0>"
      ]
     },
     "metadata": {},
     "output_type": "display_data"
    }
   ],
   "source": [
    "pm.autocorrplot(trace, varnames=['beta']);"
   ]
  },
  {
   "cell_type": "code",
   "execution_count": 73,
   "metadata": {
    "collapsed": true
   },
   "outputs": [],
   "source": [
    "base_hazard = trace['lambda0']\n",
    "met_hazard = trace['lambda0'] * np.exp(np.atleast_2d(trace['beta']).T)"
   ]
  },
  {
   "cell_type": "code",
   "execution_count": 74,
   "metadata": {
    "collapsed": true
   },
   "outputs": [],
   "source": [
    "def cum_hazard(hazard):\n",
    "    return (interval_length * hazard).cumsum(axis=-1)\n",
    "\n",
    "def survival(hazard):\n",
    "    return np.exp(-cum_hazard(hazard))"
   ]
  },
  {
   "cell_type": "code",
   "execution_count": 75,
   "metadata": {
    "collapsed": true
   },
   "outputs": [],
   "source": [
    "def plot_with_hpd(x, hazard, f, ax, color=None, label=None, alpha=0.05):\n",
    "    mean = f(hazard.mean(axis=0))\n",
    "\n",
    "    percentiles = 100 * np.array([alpha / 2., 1. - alpha / 2.])\n",
    "    hpd = np.percentile(f(hazard), percentiles, axis=0)\n",
    "\n",
    "    ax.fill_between(x, hpd[0], hpd[1], color=color, alpha=0.25)\n",
    "    ax.step(x, mean, color=color, label=label);"
   ]
  },
  {
   "cell_type": "code",
   "execution_count": 83,
   "metadata": {
    "collapsed": false
   },
   "outputs": [
    {
     "data": {
      "image/png": "[encoded data removed]",
      "text/plain": [
       "<matplotlib.figure.Figure at 0x11a4a44e0>"
      ]
     },
     "metadata": {},
     "output_type": "display_data"
    }
   ],
   "source": [
    "fig, (hazard_ax, surv_ax) = plt.subplots(ncols=2, sharex=True, sharey=False, figsize=(16, 6))\n",
    "\n",
    "plot_with_hpd(interval_bounds[:-1], base_hazard, cum_hazard,\n",
    "              hazard_ax, color=blue, label='Team A')\n",
    "plot_with_hpd(interval_bounds[:-1], met_hazard, cum_hazard,\n",
    "              hazard_ax, color=red, label='Team C')\n",
    "\n",
    "hazard_ax.set_xlim(0, df.lifetime.max());\n",
    "hazard_ax.set_xlabel('Months');\n",
    "\n",
    "hazard_ax.set_ylabel(r'Cumulative hazard $\\Lambda(t)$');\n",
    "\n",
    "hazard_ax.legend(loc=2);\n",
    "\n",
    "plot_with_hpd(interval_bounds[:-1], base_hazard, survival,\n",
    "              surv_ax, color=blue)\n",
    "plot_with_hpd(interval_bounds[:-1], met_hazard, survival,\n",
    "              surv_ax, color=red)\n",
    "\n",
    "surv_ax.set_xlim(0, df.lifetime.max());\n",
    "surv_ax.set_xlabel('Months');\n",
    "\n",
    "surv_ax.set_ylabel('Survival function $S(t)$');\n",
    "\n",
    "fig.suptitle('Bayesian survival model');"
   ]
  },
  {
   "cell_type": "markdown",
   "metadata": {},
   "source": [
    "### Time varying effects\n"
   ]
  },
  {
   "cell_type": "code",
   "execution_count": 77,
   "metadata": {
    "collapsed": false
   },
   "outputs": [],
   "source": [
    "with pm.Model() as time_varying_model:\n",
    "\n",
    "    lambda0 = pm.Gamma('lambda0', 0.01, 0.01, shape=n_intervals)\n",
    "    beta = GaussianRandomWalk('beta', tau=1., shape=n_intervals)\n",
    "\n",
    "    lambda_ = pm.Deterministic('h', lambda0 * T.exp(T.outer(T.constant(df.team), beta)))\n",
    "    mu = pm.Deterministic('mu', exposure * lambda_)\n",
    "\n",
    "    obs = pm.Poisson('obs', mu, observed=death)"
   ]
  },
  {
   "cell_type": "code",
   "execution_count": 78,
   "metadata": {
    "collapsed": false
   },
   "outputs": [
    {
     "name": "stderr",
     "output_type": "stream",
     "text": [
      "Average ELBO = -5.7629e+16: 100%|██████████| 200000/200000 [00:35<00:00, 5703.53it/s]\n",
      "100%|██████████| 1000/1000 [05:51<00:00,  2.85it/s]\n"
     ]
    }
   ],
   "source": [
    "with time_varying_model:\n",
    "    time_varying_trace_ = pm.sample(n_samples, random_seed=SEED)"
   ]
  },
  {
   "cell_type": "code",
   "execution_count": 79,
   "metadata": {
    "collapsed": true
   },
   "outputs": [],
   "source": [
    "time_varying_trace = time_varying_trace_[100:]"
   ]
  },
  {
   "cell_type": "code",
   "execution_count": 80,
   "metadata": {
    "collapsed": false
   },
   "outputs": [
    {
     "data": {
      "image/png": "[encoded data removed]",
      "text/plain": [
       "<matplotlib.figure.Figure at 0x117952550>"
      ]
     },
     "metadata": {},
     "output_type": "display_data"
    }
   ],
   "source": [
    "pm.forestplot(time_varying_trace, varnames=['beta']);"
   ]
  },
  {
   "cell_type": "code",
   "execution_count": 84,
   "metadata": {
    "collapsed": false
   },
   "outputs": [
    {
     "data": {
      "image/png": "[encoded data removed]",
      "text/plain": [
       "<matplotlib.figure.Figure at 0x11b3dcc88>"
      ]
     },
     "metadata": {},
     "output_type": "display_data"
    }
   ],
   "source": [
    "fig, ax = plt.subplots(figsize=(8, 6))\n",
    "\n",
    "beta_hpd = np.percentile(time_varying_trace['beta'], [2.5, 97.5], axis=0)\n",
    "beta_low = beta_hpd[0]\n",
    "beta_high = beta_hpd[1]\n",
    "ax.fill_between(interval_bounds[:-1], beta_low, beta_high,\n",
    "                color=blue, alpha=0.25);\n",
    "beta_hat = time_varying_trace['beta'].mean(axis=0)\n",
    "ax.step(interval_bounds[:-1], beta_hat, color=blue);\n",
    "ax.scatter(interval_bounds[last_period[(df.broken.values == 1) & (df.team == 1)]],\n",
    "           beta_hat[last_period[(df.broken.values == 1) & (df.team == 1)]],\n",
    "           c=red, zorder=10, label='Broken Team A');\n",
    "ax.scatter(interval_bounds[last_period[(df.broken.values == 0) & (df.team == 1)]],\n",
    "           beta_hat[last_period[(df.broken.values == 0) & (df.team == 1)]],\n",
    "           c=blue, zorder=10, label='Non-broken Team A');\n",
    "\n",
    "ax.set_xlim(0, df.lifetime.max());\n",
    "ax.set_xlabel('Months');\n",
    "\n",
    "ax.set_ylabel(r'$\\beta_j$');\n",
    "\n",
    "ax.legend();"
   ]
  },
  {
   "cell_type": "code",
   "execution_count": 85,
   "metadata": {
    "collapsed": true
   },
   "outputs": [],
   "source": [
    "tv_base_hazard = time_varying_trace['lambda0']\n",
    "tv_met_hazard = time_varying_trace['lambda0'] * np.exp(np.atleast_2d(time_varying_trace['beta']))"
   ]
  },
  {
   "cell_type": "code",
   "execution_count": 86,
   "metadata": {
    "collapsed": false
   },
   "outputs": [
    {
     "data": {
      "image/png": "[encoded data removed]",
      "text/plain": [
       "<matplotlib.figure.Figure at 0x1181e6208>"
      ]
     },
     "metadata": {},
     "output_type": "display_data"
    }
   ],
   "source": [
    "fig, ax = plt.subplots(figsize=(8, 6))\n",
    "\n",
    "ax.step(interval_bounds[:-1], cum_hazard(base_hazard.mean(axis=0)),\n",
    "        color=blue, label='Team C');\n",
    "ax.step(interval_bounds[:-1], cum_hazard(met_hazard.mean(axis=0)),\n",
    "        color=red, label='Team A');\n",
    "\n",
    "ax.step(interval_bounds[:-1], cum_hazard(tv_base_hazard.mean(axis=0)),\n",
    "        color=blue, linestyle='--', label='Team C (time varying effect)');\n",
    "ax.step(interval_bounds[:-1], cum_hazard(tv_met_hazard.mean(axis=0)),\n",
    "        color=red, linestyle='--', label='Team A (time varying effect)');\n",
    "\n",
    "ax.set_xlim(0, df.lifetime.max() - 4);\n",
    "ax.set_xlabel('Months');\n",
    "\n",
    "ax.set_ylim(0, 2);\n",
    "ax.set_ylabel(r'Cumulative hazard $\\Lambda(t)$');\n",
    "\n",
    "ax.legend(loc=2);"
   ]
  },
  {
   "cell_type": "markdown",
   "metadata": {},
   "source": [
    "Database: https://github.com/ludovicbenistant/Management-Analytics/tree/master/Supply%20Chain/Maintenance%20(survival%20analysis) \n",
    "\n",
    "Normal survival analysis done with the same data (for comparison purposes): https://rpubs.com/Ludovicbenistant/predictive-maintenance \n",
    "\n",
    "Pymc3 code explanation: https://pymc-devs.github.io/pymc3/notebooks/survival_analysis.html "
   ]
  }
 ],
 "metadata": {
  "anaconda-cloud": {
   "environment": null,
   "url": "https://anaconda.org/ludovicbenistant/bayesian-survival-analysis"
  },
  "kernelspec": {
   "display_name": "Python [Root]",
   "language": "python",
   "name": "Python [Root]"
  },
  "language_info": {
   "codemirror_mode": {
    "name": "ipython",
    "version": 3
   },
   "file_extension": ".py",
   "mimetype": "text/x-python",
   "name": "python",
   "nbconvert_exporter": "python",
   "pygments_lexer": "ipython3",
   "version": "3.5.2"
  }
 },
 "nbformat": 4,
 "nbformat_minor": 0
}
