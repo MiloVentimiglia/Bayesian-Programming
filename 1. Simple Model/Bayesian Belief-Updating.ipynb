{
 "cells": [
  {
   "cell_type": "markdown",
   "metadata": {},
   "source": [
    "# Bayesian Belief-Updating \n",
    "\n",
    "Bayes' theorem is a method to update the probability of an given hypothesis (H), based on prior knowledge of H and newly aquired evidence (E) or data (D).\n",
    "\n",
    "\\begin{align}\n",
    " P( H | E ) = & \\frac{ P(E | H) P(H) } {P(E) } \\\\\\\\[5pt]\n",
    "\\end{align}\n",
    "\n",
    "• P(H) = Prior (probability of the hypothesis before we see the new evidence)  \n",
    "• P(H|E) = Posterior (probability of the hypothesis after we see the new evidence)   \n",
    "• P(E|H) = Likelihood (probability of the evidence if the hypothesis is true)    \n",
    "• P(E) = Normalizing constant (probability of the evidence under any hypothesis)  \n",
    "\n",
    "The normalizing constant *P(E)* can be divided into two possibilities, event $E$ occurring when our hypothesis is true or when our hypothesis is wrong (denoted $\\sim H\\;$). Therefore:\n",
    "\n",
    "\\begin{align}\n",
    "P(E ) & = P(E \\text{ and } H) + P(E \\text{ and } \\sim H) \\\\\\\\[5pt]\n",
    " & = P(E|H)P(H) + P(E | \\sim H)P(\\sim H)\\\\\\\\[5pt]\n",
    "& = P(E|H)p + P(E | \\sim H)(1-p)\n",
    "\\end{align}"
   ]
  },
  {
   "cell_type": "markdown",
   "metadata": {},
   "source": [
    "## 1. Simple update (example)\n",
    "\n",
    "Bad news: a patient has tested positive for a serious disease and we know that this test is 99% accurate (i.e., the probability of testing positive for a patient that has the disease is 0.99 as is the probability of testing negative when a patient does not have the disease).  \n",
    "Good news however: this disease is extremely rare, only 1 in 10,000 people.\n",
    "\n",
    "So what is the actual probability that the patient has the disease, even after been tested positive?\n",
    "\n",
    "• P(H) = 0.0001   \n",
    "• P(~H) = 0.9999  \n",
    "• P(E|~H) = 0.01  \n",
    "• P(E) needs to be calculated using the Theorem of Total Probability as shown above = 0.0101 \n",
    "\n",
    "We can now insert these probabilities into Bayes' formula: \n",
    "\n",
    "P(H|E) = (0.99 * 0.0001) / 0.0101\n",
    "P(H|E) = 0.0098\n",
    "\n",
    "So the probability of the patient having the disease in still less than 1%!\n",
    "\n",
    "Here we use a graph to illustrate how small is the change.\n"
   ]
  },
  {
   "cell_type": "code",
   "execution_count": 23,
   "metadata": {
    "collapsed": false
   },
   "outputs": [
    {
     "data": {
      "image/png": "[encoded data removed]",
      "text/plain": [
       "<matplotlib.figure.Figure at 0x10bf9b470>"
      ]
     },
     "metadata": {},
     "output_type": "display_data"
    }
   ],
   "source": [
    "%matplotlib inline\n",
    "from IPython.core.pylabtools import figsize\n",
    "import numpy as np\n",
    "from matplotlib import pyplot as plt\n",
    "import scipy.stats as stats\n",
    "\n",
    "figsize(12.5, 4)\n",
    "colours = [\"#348ABD\", \"#A60628\"]\n",
    "\n",
    "prior = [99, 98]\n",
    "posterior = [1,2]\n",
    "plt.bar([0, .7], prior, alpha=0.70, width=0.25,\n",
    "        color=colours[0], label=\"prior distribution\",\n",
    "        lw=\"3\", edgecolor=colours[0])\n",
    "\n",
    "plt.bar([0+0.25, .7+0.25], posterior, alpha=0.7,\n",
    "        width=0.25, color=colours[1],\n",
    "        label=\"posterior distribution\",\n",
    "        lw=\"3\", edgecolor=colours[1])\n",
    "\n",
    "plt.xticks([0.20, .95], [\"Before the test\", \"After the test\"])\n",
    "plt.title(\"Prior and Posterior probability of having the disease\")\n",
    "plt.ylabel(\"Probability\")\n",
    "plt.legend(loc=\"upper left\");"
   ]
  },
  {
   "cell_type": "markdown",
   "metadata": {},
   "source": [
    "# 2. Gradually getting closer to the truth\n",
    "\n",
    "Bayes' theorem offers the possibility of gradually getting closer to the truth by constantly updating our belief with new evidence. Indeed as soon as you get your posterior it becomes a prior for future uses when new evidence will come into view. \n",
    "\n",
    "For instance this graph could represent more than ten years of bayesian updates given yearly information about what  investments the company should make."
   ]
  },
  {
   "cell_type": "code",
   "execution_count": 24,
   "metadata": {
    "collapsed": false
   },
   "outputs": [
    {
     "data": {
      "text/html": [
       "<iframe id=\"igraph\" scrolling=\"no\" style=\"border:none;\" seamless=\"seamless\" src=\"https://plot.ly/~ludovic/74.embed\" height=\"525px\" width=\"100%\"></iframe>"
      ],
      "text/plain": [
       "<plotly.tools.PlotlyDisplay object>"
      ]
     },
     "execution_count": 24,
     "metadata": {},
     "output_type": "execute_result"
    }
   ],
   "source": [
    "import plotly.plotly as py\n",
    "import plotly.graph_objs as go\n",
    "\n",
    "title = 'Bayesian Belief-Updating'\n",
    "\n",
    "labels = ['Technology 1', 'Technology 2', 'Technology 3', 'Technology 4']\n",
    "\n",
    "colors = ['rgba(67,67,67,1)', 'rgba(115,115,115,1)', 'rgba(49,130,189, 1)', 'rgba(189,189,189,1)']\n",
    "\n",
    "mode_size = [8, 8, 12, 8]\n",
    "\n",
    "line_size = [2, 2, 4, 2]\n",
    "\n",
    "x_data = [\n",
    "    [2001, 2002, 2003, 2004, 2005, 2006, 2007, 2008, 2009, 2010, 2011, 2013],\n",
    "    [2001, 2002, 2003, 2004, 2005, 2006, 2007, 2008, 2009, 2010, 2011, 2013],\n",
    "    [2001, 2002, 2003, 2004, 2005, 2006, 2007, 2008, 2009, 2010, 2011, 2013],\n",
    "    [2001, 2002, 2003, 2004, 2005, 2006, 2007, 2008, 2009, 2010, 2011, 2013],\n",
    "]\n",
    "\n",
    "y_data = [\n",
    "    [74, 82, 80, 74, 73, 72, 74, 70, 70, 66, 66, 69],\n",
    "    [45, 42, 50, 46, 36, 36, 34, 35, 32, 31, 31, 28],\n",
    "    [13, 14, 20, 24, 20, 24, 24, 40, 35, 41, 43, 50],\n",
    "    [18, 21, 18, 21, 16, 14, 13, 18, 17, 16, 19, 23],\n",
    "]\n",
    "\n",
    "traces = []\n",
    "\n",
    "for i in range(0, 4):\n",
    "    traces.append(go.Scatter(\n",
    "        x=x_data[i],\n",
    "        y=y_data[i],\n",
    "        mode='lines',\n",
    "        line=dict(color=colors[i], width=line_size[i]),\n",
    "        connectgaps=True,\n",
    "    ))\n",
    "\n",
    "    traces.append(go.Scatter(\n",
    "        x=[x_data[i][0], x_data[i][11]],\n",
    "        y=[y_data[i][0], y_data[i][11]],\n",
    "        mode='markers',\n",
    "        marker=dict(color=colors[i], size=mode_size[i])\n",
    "    ))\n",
    "\n",
    "layout = go.Layout(\n",
    "    xaxis=dict(\n",
    "        showline=True,\n",
    "        showgrid=False,\n",
    "        showticklabels=True,\n",
    "        linecolor='rgb(204, 204, 204)',\n",
    "        linewidth=2,\n",
    "        autotick=False,\n",
    "        ticks='outside',\n",
    "        tickcolor='rgb(204, 204, 204)',\n",
    "        tickwidth=2,\n",
    "        ticklen=5,\n",
    "        tickfont=dict(\n",
    "            family='Arial',\n",
    "            size=12,\n",
    "            color='rgb(82, 82, 82)',\n",
    "        ),\n",
    "    ),\n",
    "    yaxis=dict(\n",
    "        showgrid=False,\n",
    "        zeroline=False,\n",
    "        showline=False,\n",
    "        showticklabels=False,\n",
    "    ),\n",
    "    autosize=False,\n",
    "    margin=dict(\n",
    "        autoexpand=False,\n",
    "        l=100,\n",
    "        r=20,\n",
    "        t=110,\n",
    "    ),\n",
    "    showlegend=False,\n",
    ")\n",
    "\n",
    "annotations = []\n",
    "\n",
    "# Adding labels\n",
    "for y_trace, label, color in zip(y_data, labels, colors):\n",
    "    # labeling the left_side of the plot\n",
    "    annotations.append(dict(xref='paper', x=0.05, y=y_trace[0],\n",
    "                                  xanchor='right', yanchor='middle',\n",
    "                                  text=label + ' {}%'.format(y_trace[0]),\n",
    "                                  font=dict(family='Arial',\n",
    "                                            size=16,\n",
    "                                            color=colors,),\n",
    "                                  showarrow=False))\n",
    "    # labeling the right_side of the plot\n",
    "    annotations.append(dict(xref='paper', x=0.95, y=y_trace[11],\n",
    "                                  xanchor='left', yanchor='middle',\n",
    "                                  text='{}%'.format(y_trace[11]),\n",
    "                                  font=dict(family='Arial',\n",
    "                                            size=16,\n",
    "                                            color=colors,),\n",
    "                                  showarrow=False))\n",
    "# Title\n",
    "annotations.append(dict(xref='paper', yref='paper', x=0.0, y=1.05,\n",
    "                              xanchor='left', yanchor='bottom',\n",
    "                              text='Bayesian Belief-Updating',\n",
    "                              font=dict(family='Arial',\n",
    "                                        size=30,\n",
    "                                        color='rgb(37,37,37)'),\n",
    "                              showarrow=False))\n",
    "# Source\n",
    "annotations.append(dict(xref='paper', yref='paper', x=0.5, y=-0.1,\n",
    "                              xanchor='center', yanchor='top',\n",
    "                              text='Where should our company invest? ' +\n",
    "                                   ' (Yearly Bayesian Update)',\n",
    "                              font=dict(family='Arial',\n",
    "                                        size=12,\n",
    "                                        color='rgb(150,150,150)'),\n",
    "                              showarrow=False))\n",
    "\n",
    "layout['annotations'] = annotations\n",
    "\n",
    "fig = go.Figure(data=traces, layout=layout)\n",
    "py.iplot(fig, filename='news-source')"
   ]
  },
  {
   "cell_type": "markdown",
   "metadata": {},
   "source": [
    "Find the plot here: https://plot.ly/~ludovic/130/ \n",
    "\n",
    "\n",
    "\n",
    "**Sources:**  \n",
    "Davidson-Pilon, C. (2015). Bayesian Methods for Hackers: Probabilistic Programming and Bayesian Inference. Addison-Wesley Professional.\n",
    "\n",
    "D. Kelleher, J., Mac Namee, B. & D’Arcy, A.  (2015, July). Fundamentals of Machine Learning for Predictive Data Analytics: Algorithms, Worked Examples, and Case Studies. The MIT Press; 1st Edition.\n",
    "\n",
    "https://plot.ly/python/line-charts/   "
   ]
  },
  {
   "cell_type": "code",
   "execution_count": null,
   "metadata": {
    "collapsed": true
   },
   "outputs": [],
   "source": []
  }
 ],
 "metadata": {
  "anaconda-cloud": {},
  "kernelspec": {
   "display_name": "Python [Root]",
   "language": "python",
   "name": "Python [Root]"
  },
  "language_info": {
   "codemirror_mode": {
    "name": "ipython",
    "version": 3
   },
   "file_extension": ".py",
   "mimetype": "text/x-python",
   "name": "python",
   "nbconvert_exporter": "python",
   "pygments_lexer": "ipython3",
   "version": "3.5.2"
  }
 },
 "nbformat": 4,
 "nbformat_minor": 0
}
